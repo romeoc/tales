{
 "cells": [
  {
   "cell_type": "markdown",
   "metadata": {},
   "source": [
    "# Online Retail – Customer Segmentation & Recommender System\n",
    "Romeo Cozac (June, 2018)\n",
    "___\n",
    "**The Data**: This is a transnational data set which contains all the transactions occurring between 01/12/2010 and 09/12/2011 for a UK-based and registered non-store online retail. The company mainly sells unique all-occasion gifts. Many customers of the company are wholesalers.\n",
    "\n",
    "**Goals**: Through this notebook we aim to better understand customer behaviour as well as trends in sales, and to use this information to answer business questions. We look at new customer aquisition through time and repeat purchase rates, as we want to segment customers based on how much value they are likely to bring in the future. Also, we check which products/categories each one of our segments prefer and which ones are more troublesome. Finally, we build a collaborative filtering based recommender system.\n",
    "___\n",
    "**1. Setup and Prerequisites**\n",
    "\n",
    "**2. Visualizing and Exploring the Data**\n",
    "\n",
    "    2.1. Data Preparation and Feature Engineering\n",
    "    2.2. Empty Values\n",
    "    2.3. Basic Statistics\n",
    "    2.4. Cancellations\n",
    "    2.5. Countries\n",
    "    2.6. Sales\n",
    "    2.7. Guest Orders\n",
    "    2.8. Customers\n",
    "    \n",
    "**3. Products Insight**\n",
    "___\n",
    "## 1. Setup and Prerequisites\n",
    "As a first step, we download the data under from kaggle into to the `data/` directory"
   ]
  },
  {
   "cell_type": "code",
   "execution_count": 3,
   "metadata": {},
   "outputs": [
    {
     "name": "stdout",
     "output_type": "stream",
     "text": [
      "Downloading ecommerce-data.zip to data\n",
      "100%|██████████████████████████████████████| 7.95M/7.95M [00:01<00:00, 5.06MB/s]\n",
      "\n"
     ]
    }
   ],
   "source": [
    "!kaggle datasets download -d carrie1/ecommerce-data -p data/"
   ]
  },
  {
   "cell_type": "markdown",
   "metadata": {},
   "source": [
    "Next, we load the modules and dependencies used in the notebook"
   ]
  },
  {
   "cell_type": "code",
   "execution_count": 63,
   "metadata": {},
   "outputs": [],
   "source": [
    "%matplotlib inline\n",
    "\n",
    "import numpy as np\n",
    "import pandas as pd\n",
    "import matplotlib\n",
    "import matplotlib.pyplot as plt\n",
    "#import geopandas as gpd\n",
    "from scipy import stats"
   ]
  },
  {
   "cell_type": "markdown",
   "metadata": {},
   "source": [
    "Finally, we load the data into memory"
   ]
  },
  {
   "cell_type": "code",
   "execution_count": 2,
   "metadata": {},
   "outputs": [],
   "source": [
    "df = pd.read_csv('data/data.csv', encoding = \"ISO-8859-1\")"
   ]
  },
  {
   "cell_type": "markdown",
   "metadata": {},
   "source": [
    "## 2. Visualizing the Data\n",
    "\n",
    "Our dataset contains the following information:\n",
    "- **InvoiceNo**: *(discrete)* `string` — A unique identifier for each purchase made. <br />\n",
    "  - This variable is generally numeric. When the value starts with a \"C\", it indicates a cancelled item. <br />\n",
    "- **StockCode**: *(discrete)* `string` — A unique identifier for the product that was purchased. <br />\n",
    "  - When the fields contains only letters, it indicates a type of operation instead of a product ID (ie: discount or manual adjustment)\n",
    "- **Description**: *(discrete)* `string` — Name of the purchased product. <br />\n",
    "  - In case of a certain operation like discounts, this field will contain additional details to what appears in \"StockCode\n",
    "- **Quantity**: *(continuous)* `int` — How many products were bought on this order. <br />\n",
    "- **InvoiceDate**: *(continuous)* `date` — When the order was made. <br />\n",
    "- **UnitPrice**: *(continuous)* `float` — Product price per unit (in pound sterling). <br />\n",
    "  - This can be negative in case of a cancellation or discount\n",
    "- **CustomerID**: *(discrete)* `int` — A unique identifier for the customer who made the order. <br />\n",
    "- **Country**: *(discrete)* `string` — Location of the store."
   ]
  },
  {
   "cell_type": "code",
   "execution_count": 6,
   "metadata": {},
   "outputs": [
    {
     "data": {
      "text/html": [
       "<div>\n",
       "<style>\n",
       "    .dataframe thead tr:only-child th {\n",
       "        text-align: right;\n",
       "    }\n",
       "\n",
       "    .dataframe thead th {\n",
       "        text-align: left;\n",
       "    }\n",
       "\n",
       "    .dataframe tbody tr th {\n",
       "        vertical-align: top;\n",
       "    }\n",
       "</style>\n",
       "<table border=\"1\" class=\"dataframe\">\n",
       "  <thead>\n",
       "    <tr style=\"text-align: right;\">\n",
       "      <th></th>\n",
       "      <th>InvoiceNo</th>\n",
       "      <th>StockCode</th>\n",
       "      <th>Description</th>\n",
       "      <th>Quantity</th>\n",
       "      <th>InvoiceDate</th>\n",
       "      <th>UnitPrice</th>\n",
       "      <th>CustomerID</th>\n",
       "      <th>Country</th>\n",
       "    </tr>\n",
       "  </thead>\n",
       "  <tbody>\n",
       "    <tr>\n",
       "      <th>0</th>\n",
       "      <td>536365</td>\n",
       "      <td>85123A</td>\n",
       "      <td>WHITE HANGING HEART T-LIGHT HOLDER</td>\n",
       "      <td>6</td>\n",
       "      <td>12/1/2010 8:26</td>\n",
       "      <td>2.55</td>\n",
       "      <td>17850.0</td>\n",
       "      <td>United Kingdom</td>\n",
       "    </tr>\n",
       "    <tr>\n",
       "      <th>1</th>\n",
       "      <td>536365</td>\n",
       "      <td>71053</td>\n",
       "      <td>WHITE METAL LANTERN</td>\n",
       "      <td>6</td>\n",
       "      <td>12/1/2010 8:26</td>\n",
       "      <td>3.39</td>\n",
       "      <td>17850.0</td>\n",
       "      <td>United Kingdom</td>\n",
       "    </tr>\n",
       "    <tr>\n",
       "      <th>2</th>\n",
       "      <td>536365</td>\n",
       "      <td>84406B</td>\n",
       "      <td>CREAM CUPID HEARTS COAT HANGER</td>\n",
       "      <td>8</td>\n",
       "      <td>12/1/2010 8:26</td>\n",
       "      <td>2.75</td>\n",
       "      <td>17850.0</td>\n",
       "      <td>United Kingdom</td>\n",
       "    </tr>\n",
       "    <tr>\n",
       "      <th>3</th>\n",
       "      <td>536365</td>\n",
       "      <td>84029G</td>\n",
       "      <td>KNITTED UNION FLAG HOT WATER BOTTLE</td>\n",
       "      <td>6</td>\n",
       "      <td>12/1/2010 8:26</td>\n",
       "      <td>3.39</td>\n",
       "      <td>17850.0</td>\n",
       "      <td>United Kingdom</td>\n",
       "    </tr>\n",
       "    <tr>\n",
       "      <th>4</th>\n",
       "      <td>536365</td>\n",
       "      <td>84029E</td>\n",
       "      <td>RED WOOLLY HOTTIE WHITE HEART.</td>\n",
       "      <td>6</td>\n",
       "      <td>12/1/2010 8:26</td>\n",
       "      <td>3.39</td>\n",
       "      <td>17850.0</td>\n",
       "      <td>United Kingdom</td>\n",
       "    </tr>\n",
       "  </tbody>\n",
       "</table>\n",
       "</div>"
      ],
      "text/plain": [
       "  InvoiceNo StockCode                          Description  Quantity  \\\n",
       "0    536365    85123A   WHITE HANGING HEART T-LIGHT HOLDER         6   \n",
       "1    536365     71053                  WHITE METAL LANTERN         6   \n",
       "2    536365    84406B       CREAM CUPID HEARTS COAT HANGER         8   \n",
       "3    536365    84029G  KNITTED UNION FLAG HOT WATER BOTTLE         6   \n",
       "4    536365    84029E       RED WOOLLY HOTTIE WHITE HEART.         6   \n",
       "\n",
       "      InvoiceDate  UnitPrice  CustomerID         Country  \n",
       "0  12/1/2010 8:26       2.55     17850.0  United Kingdom  \n",
       "1  12/1/2010 8:26       3.39     17850.0  United Kingdom  \n",
       "2  12/1/2010 8:26       2.75     17850.0  United Kingdom  \n",
       "3  12/1/2010 8:26       3.39     17850.0  United Kingdom  \n",
       "4  12/1/2010 8:26       3.39     17850.0  United Kingdom  "
      ]
     },
     "execution_count": 6,
     "metadata": {},
     "output_type": "execute_result"
    }
   ],
   "source": [
    "df.head()"
   ]
  },
  {
   "cell_type": "markdown",
   "metadata": {},
   "source": [
    "We can see that our dataset is focused on *products* (order items) instead of orders as there are duplicate `InvoiceNo`s. This means that each row represents a unique product from an order made.\n",
    "\n",
    "### 2.1. Data Preparation and Feature Engineering\n",
    "We first cast the type of **InvoiceDate** to `datetime` and add a new field called **RowTotal**, which is the total amount paid on the entry."
   ]
  },
  {
   "cell_type": "code",
   "execution_count": 3,
   "metadata": {},
   "outputs": [],
   "source": [
    "df[\"InvoiceDate\"] = pd.to_datetime(df[\"InvoiceDate\"], infer_datetime_format=True)\n",
    "df[\"RowTotal\"] = df[\"Quantity\"] * df[\"UnitPrice\"]"
   ]
  },
  {
   "cell_type": "markdown",
   "metadata": {},
   "source": [
    "Order based metrics (instead of order items) is also something we want to look at, so we create an aggregated DataFrame based on orders. We compute the **GrandTotal** for each order and count the number of unique products, as well as the total number of items purchased."
   ]
  },
  {
   "cell_type": "code",
   "execution_count": 4,
   "metadata": {},
   "outputs": [
    {
     "data": {
      "text/html": [
       "<div>\n",
       "<style scoped>\n",
       "    .dataframe tbody tr th:only-of-type {\n",
       "        vertical-align: middle;\n",
       "    }\n",
       "\n",
       "    .dataframe tbody tr th {\n",
       "        vertical-align: top;\n",
       "    }\n",
       "\n",
       "    .dataframe thead th {\n",
       "        text-align: right;\n",
       "    }\n",
       "</style>\n",
       "<table border=\"1\" class=\"dataframe\">\n",
       "  <thead>\n",
       "    <tr style=\"text-align: right;\">\n",
       "      <th></th>\n",
       "      <th>InvoiceNo</th>\n",
       "      <th>ProductsCount</th>\n",
       "      <th>ItemsCount</th>\n",
       "      <th>GrandTotal</th>\n",
       "      <th>Country</th>\n",
       "      <th>InvoiceDate</th>\n",
       "      <th>CustomerID</th>\n",
       "    </tr>\n",
       "  </thead>\n",
       "  <tbody>\n",
       "    <tr>\n",
       "      <th>0</th>\n",
       "      <td>536365</td>\n",
       "      <td>7</td>\n",
       "      <td>40</td>\n",
       "      <td>139.12</td>\n",
       "      <td>United Kingdom</td>\n",
       "      <td>2010-12-01 08:26:00</td>\n",
       "      <td>17850.0</td>\n",
       "    </tr>\n",
       "    <tr>\n",
       "      <th>1</th>\n",
       "      <td>536366</td>\n",
       "      <td>2</td>\n",
       "      <td>12</td>\n",
       "      <td>22.20</td>\n",
       "      <td>United Kingdom</td>\n",
       "      <td>2010-12-01 08:28:00</td>\n",
       "      <td>17850.0</td>\n",
       "    </tr>\n",
       "    <tr>\n",
       "      <th>2</th>\n",
       "      <td>536367</td>\n",
       "      <td>12</td>\n",
       "      <td>83</td>\n",
       "      <td>278.73</td>\n",
       "      <td>United Kingdom</td>\n",
       "      <td>2010-12-01 08:34:00</td>\n",
       "      <td>13047.0</td>\n",
       "    </tr>\n",
       "    <tr>\n",
       "      <th>3</th>\n",
       "      <td>536368</td>\n",
       "      <td>4</td>\n",
       "      <td>15</td>\n",
       "      <td>70.05</td>\n",
       "      <td>United Kingdom</td>\n",
       "      <td>2010-12-01 08:34:00</td>\n",
       "      <td>13047.0</td>\n",
       "    </tr>\n",
       "    <tr>\n",
       "      <th>4</th>\n",
       "      <td>536369</td>\n",
       "      <td>1</td>\n",
       "      <td>3</td>\n",
       "      <td>17.85</td>\n",
       "      <td>United Kingdom</td>\n",
       "      <td>2010-12-01 08:35:00</td>\n",
       "      <td>13047.0</td>\n",
       "    </tr>\n",
       "  </tbody>\n",
       "</table>\n",
       "</div>"
      ],
      "text/plain": [
       "  InvoiceNo  ProductsCount  ItemsCount  GrandTotal         Country  \\\n",
       "0    536365              7          40      139.12  United Kingdom   \n",
       "1    536366              2          12       22.20  United Kingdom   \n",
       "2    536367             12          83      278.73  United Kingdom   \n",
       "3    536368              4          15       70.05  United Kingdom   \n",
       "4    536369              1           3       17.85  United Kingdom   \n",
       "\n",
       "          InvoiceDate  CustomerID  \n",
       "0 2010-12-01 08:26:00     17850.0  \n",
       "1 2010-12-01 08:28:00     17850.0  \n",
       "2 2010-12-01 08:34:00     13047.0  \n",
       "3 2010-12-01 08:34:00     13047.0  \n",
       "4 2010-12-01 08:35:00     13047.0  "
      ]
     },
     "execution_count": 4,
     "metadata": {},
     "output_type": "execute_result"
    }
   ],
   "source": [
    "orders = df.groupby(\"InvoiceNo\") \\\n",
    "    .agg({\n",
    "        'StockCode':'count',\n",
    "        'Quantity': 'sum',\n",
    "        'RowTotal': 'sum',\n",
    "        'Country': 'first',\n",
    "        'InvoiceDate': 'first',\n",
    "        'CustomerID': 'first'}) \\\n",
    "    .reset_index() \\\n",
    "    .rename(columns={\n",
    "        'StockCode':'ProductsCount', \n",
    "        'Quantity': 'ItemsCount', \n",
    "        'RowTotal': 'GrandTotal'\n",
    "    })\n",
    "    \n",
    "orders.head()"
   ]
  },
  {
   "cell_type": "markdown",
   "metadata": {},
   "source": [
    "### 2.2. Empty Values"
   ]
  },
  {
   "cell_type": "code",
   "execution_count": 11,
   "metadata": {},
   "outputs": [
    {
     "name": "stdout",
     "output_type": "stream",
     "text": [
      "<class 'pandas.core.frame.DataFrame'>\n",
      "RangeIndex: 541909 entries, 0 to 541908\n",
      "Data columns (total 9 columns):\n",
      "InvoiceNo      541909 non-null object\n",
      "StockCode      541909 non-null object\n",
      "Description    540455 non-null object\n",
      "Quantity       541909 non-null int64\n",
      "InvoiceDate    541909 non-null datetime64[ns]\n",
      "UnitPrice      541909 non-null float64\n",
      "CustomerID     406829 non-null float64\n",
      "Country        541909 non-null object\n",
      "RowTotal       541909 non-null float64\n",
      "dtypes: datetime64[ns](1), float64(3), int64(1), object(4)\n",
      "memory usage: 37.2+ MB\n"
     ]
    }
   ],
   "source": [
    "df.info()"
   ]
  },
  {
   "cell_type": "markdown",
   "metadata": {},
   "source": [
    "The dataset contains a little over 540,000 entries (order items). Most variables have a value 100% of the time, except for the **Description**, but especially for the **CustomerID**. It is possible the entries missing a customer ID were submited by guests (people who placed an order without creating an account).\n",
    "\n",
    "We take a closer look at the **Description** field."
   ]
  },
  {
   "cell_type": "code",
   "execution_count": 12,
   "metadata": {},
   "outputs": [
    {
     "data": {
      "text/html": [
       "<div>\n",
       "<style>\n",
       "    .dataframe thead tr:only-child th {\n",
       "        text-align: right;\n",
       "    }\n",
       "\n",
       "    .dataframe thead th {\n",
       "        text-align: left;\n",
       "    }\n",
       "\n",
       "    .dataframe tbody tr th {\n",
       "        vertical-align: top;\n",
       "    }\n",
       "</style>\n",
       "<table border=\"1\" class=\"dataframe\">\n",
       "  <thead>\n",
       "    <tr style=\"text-align: right;\">\n",
       "      <th></th>\n",
       "      <th>InvoiceNo</th>\n",
       "      <th>StockCode</th>\n",
       "      <th>Description</th>\n",
       "      <th>Quantity</th>\n",
       "      <th>InvoiceDate</th>\n",
       "      <th>UnitPrice</th>\n",
       "      <th>CustomerID</th>\n",
       "      <th>Country</th>\n",
       "      <th>RowTotal</th>\n",
       "    </tr>\n",
       "  </thead>\n",
       "  <tbody>\n",
       "    <tr>\n",
       "      <th>622</th>\n",
       "      <td>536414</td>\n",
       "      <td>22139</td>\n",
       "      <td>NaN</td>\n",
       "      <td>56</td>\n",
       "      <td>2010-12-01 11:52:00</td>\n",
       "      <td>0.0</td>\n",
       "      <td>NaN</td>\n",
       "      <td>United Kingdom</td>\n",
       "      <td>0.0</td>\n",
       "    </tr>\n",
       "    <tr>\n",
       "      <th>1970</th>\n",
       "      <td>536545</td>\n",
       "      <td>21134</td>\n",
       "      <td>NaN</td>\n",
       "      <td>1</td>\n",
       "      <td>2010-12-01 14:32:00</td>\n",
       "      <td>0.0</td>\n",
       "      <td>NaN</td>\n",
       "      <td>United Kingdom</td>\n",
       "      <td>0.0</td>\n",
       "    </tr>\n",
       "    <tr>\n",
       "      <th>1971</th>\n",
       "      <td>536546</td>\n",
       "      <td>22145</td>\n",
       "      <td>NaN</td>\n",
       "      <td>1</td>\n",
       "      <td>2010-12-01 14:33:00</td>\n",
       "      <td>0.0</td>\n",
       "      <td>NaN</td>\n",
       "      <td>United Kingdom</td>\n",
       "      <td>0.0</td>\n",
       "    </tr>\n",
       "    <tr>\n",
       "      <th>1972</th>\n",
       "      <td>536547</td>\n",
       "      <td>37509</td>\n",
       "      <td>NaN</td>\n",
       "      <td>1</td>\n",
       "      <td>2010-12-01 14:33:00</td>\n",
       "      <td>0.0</td>\n",
       "      <td>NaN</td>\n",
       "      <td>United Kingdom</td>\n",
       "      <td>0.0</td>\n",
       "    </tr>\n",
       "    <tr>\n",
       "      <th>1987</th>\n",
       "      <td>536549</td>\n",
       "      <td>85226A</td>\n",
       "      <td>NaN</td>\n",
       "      <td>1</td>\n",
       "      <td>2010-12-01 14:34:00</td>\n",
       "      <td>0.0</td>\n",
       "      <td>NaN</td>\n",
       "      <td>United Kingdom</td>\n",
       "      <td>0.0</td>\n",
       "    </tr>\n",
       "  </tbody>\n",
       "</table>\n",
       "</div>"
      ],
      "text/plain": [
       "     InvoiceNo StockCode Description  Quantity         InvoiceDate  UnitPrice  \\\n",
       "622     536414     22139         NaN        56 2010-12-01 11:52:00        0.0   \n",
       "1970    536545     21134         NaN         1 2010-12-01 14:32:00        0.0   \n",
       "1971    536546     22145         NaN         1 2010-12-01 14:33:00        0.0   \n",
       "1972    536547     37509         NaN         1 2010-12-01 14:33:00        0.0   \n",
       "1987    536549    85226A         NaN         1 2010-12-01 14:34:00        0.0   \n",
       "\n",
       "      CustomerID         Country  RowTotal  \n",
       "622          NaN  United Kingdom       0.0  \n",
       "1970         NaN  United Kingdom       0.0  \n",
       "1971         NaN  United Kingdom       0.0  \n",
       "1972         NaN  United Kingdom       0.0  \n",
       "1987         NaN  United Kingdom       0.0  "
      ]
     },
     "execution_count": 12,
     "metadata": {},
     "output_type": "execute_result"
    }
   ],
   "source": [
    "no_descriptions = df[df[\"Description\"].isnull()]\n",
    "no_descriptions.head()"
   ]
  },
  {
   "cell_type": "markdown",
   "metadata": {},
   "source": [
    "Most rows that match this description are free items (**UnitPrice** is 0). We check if this is always the case, which indeed is."
   ]
  },
  {
   "cell_type": "code",
   "execution_count": 13,
   "metadata": {},
   "outputs": [
    {
     "name": "stdout",
     "output_type": "stream",
     "text": [
      "There are 0 entries with an empty \"Description\" and a non-zero \"UnitPrice\"\n"
     ]
    }
   ],
   "source": [
    "print('There are %s entries with an empty \"Description\" and a non-zero \"UnitPrice\"' % sum(no_descriptions[\"UnitPrice\"] > 0))"
   ]
  },
  {
   "cell_type": "markdown",
   "metadata": {},
   "source": [
    "### 2.3. Basic Statistics\n",
    "Knowing the smallest product price, the largest number of items purchased at once or the average sale value might be of interest. To get an accurate estimate we will exclude cancelled orders, free items and outliers (keeping ~99.7% of the values)."
   ]
  },
  {
   "cell_type": "code",
   "execution_count": 5,
   "metadata": {},
   "outputs": [],
   "source": [
    "clean_transactions = df[(df[\"RowTotal\"] > 0) & (df[\"StockCode\"].str.contains('\\d', regex=True))]\n",
    "clean_transactions = clean_transactions[[\"Quantity\", \"UnitPrice\", \"RowTotal\"]]\n",
    "\n",
    "clean_orders = orders[orders[\"GrandTotal\"] > 0]\n",
    "clean_orders = clean_orders[[\"ProductsCount\", \"ItemsCount\", \"GrandTotal\"]]\n",
    "\n",
    "clean_transactions = clean_transactions[(np.abs(stats.zscore(clean_transactions)) < 3).all(axis=1)]\n",
    "clean_orders = clean_orders[(np.abs(stats.zscore(clean_orders)) < 3).all(axis=1)]"
   ]
  },
  {
   "cell_type": "code",
   "execution_count": 15,
   "metadata": {},
   "outputs": [
    {
     "data": {
      "text/html": [
       "<div>\n",
       "<style>\n",
       "    .dataframe thead tr:only-child th {\n",
       "        text-align: right;\n",
       "    }\n",
       "\n",
       "    .dataframe thead th {\n",
       "        text-align: left;\n",
       "    }\n",
       "\n",
       "    .dataframe tbody tr th {\n",
       "        vertical-align: top;\n",
       "    }\n",
       "</style>\n",
       "<table border=\"1\" class=\"dataframe\">\n",
       "  <thead>\n",
       "    <tr style=\"text-align: right;\">\n",
       "      <th></th>\n",
       "      <th>Quantity</th>\n",
       "      <th>UnitPrice</th>\n",
       "      <th>RowTotal</th>\n",
       "    </tr>\n",
       "  </thead>\n",
       "  <tbody>\n",
       "    <tr>\n",
       "      <th>count</th>\n",
       "      <td>520539.000000</td>\n",
       "      <td>520539.000000</td>\n",
       "      <td>520539.000000</td>\n",
       "    </tr>\n",
       "    <tr>\n",
       "      <th>mean</th>\n",
       "      <td>9.445427</td>\n",
       "      <td>3.009416</td>\n",
       "      <td>17.153683</td>\n",
       "    </tr>\n",
       "    <tr>\n",
       "      <th>std</th>\n",
       "      <td>21.287281</td>\n",
       "      <td>2.737098</td>\n",
       "      <td>35.895841</td>\n",
       "    </tr>\n",
       "    <tr>\n",
       "      <th>min</th>\n",
       "      <td>1.000000</td>\n",
       "      <td>0.040000</td>\n",
       "      <td>0.060000</td>\n",
       "    </tr>\n",
       "    <tr>\n",
       "      <th>25%</th>\n",
       "      <td>1.000000</td>\n",
       "      <td>1.250000</td>\n",
       "      <td>3.750000</td>\n",
       "    </tr>\n",
       "    <tr>\n",
       "      <th>50%</th>\n",
       "      <td>4.000000</td>\n",
       "      <td>2.080000</td>\n",
       "      <td>9.840000</td>\n",
       "    </tr>\n",
       "    <tr>\n",
       "      <th>75%</th>\n",
       "      <td>12.000000</td>\n",
       "      <td>4.130000</td>\n",
       "      <td>17.400000</td>\n",
       "    </tr>\n",
       "    <tr>\n",
       "      <th>max</th>\n",
       "      <td>468.000000</td>\n",
       "      <td>16.130000</td>\n",
       "      <td>816.750000</td>\n",
       "    </tr>\n",
       "  </tbody>\n",
       "</table>\n",
       "</div>"
      ],
      "text/plain": [
       "            Quantity      UnitPrice       RowTotal\n",
       "count  520539.000000  520539.000000  520539.000000\n",
       "mean        9.445427       3.009416      17.153683\n",
       "std        21.287281       2.737098      35.895841\n",
       "min         1.000000       0.040000       0.060000\n",
       "25%         1.000000       1.250000       3.750000\n",
       "50%         4.000000       2.080000       9.840000\n",
       "75%        12.000000       4.130000      17.400000\n",
       "max       468.000000      16.130000     816.750000"
      ]
     },
     "execution_count": 15,
     "metadata": {},
     "output_type": "execute_result"
    }
   ],
   "source": [
    "clean_transactions.describe()"
   ]
  },
  {
   "cell_type": "markdown",
   "metadata": {},
   "source": [
    "Looking at *order items*:\n",
    "- We are left with around 520,000 entries\n",
    "- On average 9-10 items are ordered from each product. However, the median is only 4, suggesting more orders with a lower quantity and a few orders with \"extreme\" quantities (probably wholesalers);\n",
    "- The price per unit indicates that the vendor is selling low priced items. It ranges from 4p to little over 16£, with a median close to 2£."
   ]
  },
  {
   "cell_type": "code",
   "execution_count": 16,
   "metadata": {},
   "outputs": [
    {
     "data": {
      "text/html": [
       "<div>\n",
       "<style>\n",
       "    .dataframe thead tr:only-child th {\n",
       "        text-align: right;\n",
       "    }\n",
       "\n",
       "    .dataframe thead th {\n",
       "        text-align: left;\n",
       "    }\n",
       "\n",
       "    .dataframe tbody tr th {\n",
       "        vertical-align: top;\n",
       "    }\n",
       "</style>\n",
       "<table border=\"1\" class=\"dataframe\">\n",
       "  <thead>\n",
       "    <tr style=\"text-align: right;\">\n",
       "      <th></th>\n",
       "      <th>ProductsCount</th>\n",
       "      <th>ItemsCount</th>\n",
       "      <th>GrandTotal</th>\n",
       "    </tr>\n",
       "  </thead>\n",
       "  <tbody>\n",
       "    <tr>\n",
       "      <th>count</th>\n",
       "      <td>19478.000000</td>\n",
       "      <td>19478.000000</td>\n",
       "      <td>19478.000000</td>\n",
       "    </tr>\n",
       "    <tr>\n",
       "      <th>mean</th>\n",
       "      <td>21.632611</td>\n",
       "      <td>228.124191</td>\n",
       "      <td>412.976755</td>\n",
       "    </tr>\n",
       "    <tr>\n",
       "      <th>std</th>\n",
       "      <td>23.397583</td>\n",
       "      <td>288.844859</td>\n",
       "      <td>507.928780</td>\n",
       "    </tr>\n",
       "    <tr>\n",
       "      <th>min</th>\n",
       "      <td>1.000000</td>\n",
       "      <td>1.000000</td>\n",
       "      <td>0.380000</td>\n",
       "    </tr>\n",
       "    <tr>\n",
       "      <th>25%</th>\n",
       "      <td>6.000000</td>\n",
       "      <td>68.000000</td>\n",
       "      <td>149.685000</td>\n",
       "    </tr>\n",
       "    <tr>\n",
       "      <th>50%</th>\n",
       "      <td>15.000000</td>\n",
       "      <td>147.000000</td>\n",
       "      <td>301.200000</td>\n",
       "    </tr>\n",
       "    <tr>\n",
       "      <th>75%</th>\n",
       "      <td>28.000000</td>\n",
       "      <td>281.000000</td>\n",
       "      <td>471.165000</td>\n",
       "    </tr>\n",
       "    <tr>\n",
       "      <th>max</th>\n",
       "      <td>169.000000</td>\n",
       "      <td>3104.000000</td>\n",
       "      <td>5867.080000</td>\n",
       "    </tr>\n",
       "  </tbody>\n",
       "</table>\n",
       "</div>"
      ],
      "text/plain": [
       "       ProductsCount    ItemsCount    GrandTotal\n",
       "count   19478.000000  19478.000000  19478.000000\n",
       "mean       21.632611    228.124191    412.976755\n",
       "std        23.397583    288.844859    507.928780\n",
       "min         1.000000      1.000000      0.380000\n",
       "25%         6.000000     68.000000    149.685000\n",
       "50%        15.000000    147.000000    301.200000\n",
       "75%        28.000000    281.000000    471.165000\n",
       "max       169.000000   3104.000000   5867.080000"
      ]
     },
     "execution_count": 16,
     "metadata": {},
     "output_type": "execute_result"
    }
   ],
   "source": [
    "clean_orders.describe()"
   ]
  },
  {
   "cell_type": "markdown",
   "metadata": {},
   "source": [
    "Looking at *orders*:\n",
    "- There are close to 20,000 orders in the dataset\n",
    "- The order statistics as well as the mean of the \"ProductsCount\" and \"ItemsCount\" indicates that the vendor is heavily focused on bulk sales. On average, more than 20 different products are purchased on every order with an average total item count of ~230 per order.\n",
    "- The average order value is little over 400£, with 75% of the orders being ~150£ or over.\n",
    "\n",
    "### 2.4. Cancellations\n",
    "We want to know how many orders are cancelled."
   ]
  },
  {
   "cell_type": "code",
   "execution_count": 6,
   "metadata": {},
   "outputs": [
    {
     "data": {
      "text/html": [
       "<div>\n",
       "<style scoped>\n",
       "    .dataframe tbody tr th:only-of-type {\n",
       "        vertical-align: middle;\n",
       "    }\n",
       "\n",
       "    .dataframe tbody tr th {\n",
       "        vertical-align: top;\n",
       "    }\n",
       "\n",
       "    .dataframe thead th {\n",
       "        text-align: right;\n",
       "    }\n",
       "</style>\n",
       "<table border=\"1\" class=\"dataframe\">\n",
       "  <thead>\n",
       "    <tr style=\"text-align: right;\">\n",
       "      <th></th>\n",
       "      <th>InvoiceNo</th>\n",
       "      <th>ProductsCount</th>\n",
       "      <th>ItemsCount</th>\n",
       "      <th>GrandTotal</th>\n",
       "      <th>Country</th>\n",
       "      <th>InvoiceDate</th>\n",
       "      <th>CustomerID</th>\n",
       "    </tr>\n",
       "  </thead>\n",
       "  <tbody>\n",
       "    <tr>\n",
       "      <th>22064</th>\n",
       "      <td>C536379</td>\n",
       "      <td>1</td>\n",
       "      <td>-1</td>\n",
       "      <td>-27.50</td>\n",
       "      <td>United Kingdom</td>\n",
       "      <td>2010-12-01 09:41:00</td>\n",
       "      <td>14527.0</td>\n",
       "    </tr>\n",
       "    <tr>\n",
       "      <th>22065</th>\n",
       "      <td>C536383</td>\n",
       "      <td>1</td>\n",
       "      <td>-1</td>\n",
       "      <td>-4.65</td>\n",
       "      <td>United Kingdom</td>\n",
       "      <td>2010-12-01 09:49:00</td>\n",
       "      <td>15311.0</td>\n",
       "    </tr>\n",
       "    <tr>\n",
       "      <th>22066</th>\n",
       "      <td>C536391</td>\n",
       "      <td>7</td>\n",
       "      <td>-132</td>\n",
       "      <td>-141.48</td>\n",
       "      <td>United Kingdom</td>\n",
       "      <td>2010-12-01 10:24:00</td>\n",
       "      <td>17548.0</td>\n",
       "    </tr>\n",
       "    <tr>\n",
       "      <th>22067</th>\n",
       "      <td>C536506</td>\n",
       "      <td>1</td>\n",
       "      <td>-6</td>\n",
       "      <td>-25.50</td>\n",
       "      <td>United Kingdom</td>\n",
       "      <td>2010-12-01 12:38:00</td>\n",
       "      <td>17897.0</td>\n",
       "    </tr>\n",
       "    <tr>\n",
       "      <th>22068</th>\n",
       "      <td>C536543</td>\n",
       "      <td>2</td>\n",
       "      <td>-3</td>\n",
       "      <td>-3.80</td>\n",
       "      <td>United Kingdom</td>\n",
       "      <td>2010-12-01 14:30:00</td>\n",
       "      <td>17841.0</td>\n",
       "    </tr>\n",
       "  </tbody>\n",
       "</table>\n",
       "</div>"
      ],
      "text/plain": [
       "      InvoiceNo  ProductsCount  ItemsCount  GrandTotal         Country  \\\n",
       "22064   C536379              1          -1      -27.50  United Kingdom   \n",
       "22065   C536383              1          -1       -4.65  United Kingdom   \n",
       "22066   C536391              7        -132     -141.48  United Kingdom   \n",
       "22067   C536506              1          -6      -25.50  United Kingdom   \n",
       "22068   C536543              2          -3       -3.80  United Kingdom   \n",
       "\n",
       "              InvoiceDate  CustomerID  \n",
       "22064 2010-12-01 09:41:00     14527.0  \n",
       "22065 2010-12-01 09:49:00     15311.0  \n",
       "22066 2010-12-01 10:24:00     17548.0  \n",
       "22067 2010-12-01 12:38:00     17897.0  \n",
       "22068 2010-12-01 14:30:00     17841.0  "
      ]
     },
     "execution_count": 6,
     "metadata": {},
     "output_type": "execute_result"
    }
   ],
   "source": [
    "cancelled_orders = orders[orders['InvoiceNo'].str.contains('C')]\n",
    "cancelled_orders.head()"
   ]
  },
  {
   "cell_type": "markdown",
   "metadata": {},
   "source": [
    "Besides the **GrandTotal** the **ItemsCount** is also negative for cancelled orders. This could indicate that a new entry is created for cancellations instead of the old ones being overwritten. We wish to verify this theory."
   ]
  },
  {
   "cell_type": "code",
   "execution_count": 18,
   "metadata": {
    "scrolled": true
   },
   "outputs": [
    {
     "data": {
      "text/html": [
       "<div>\n",
       "<style>\n",
       "    .dataframe thead tr:only-child th {\n",
       "        text-align: right;\n",
       "    }\n",
       "\n",
       "    .dataframe thead th {\n",
       "        text-align: left;\n",
       "    }\n",
       "\n",
       "    .dataframe tbody tr th {\n",
       "        vertical-align: top;\n",
       "    }\n",
       "</style>\n",
       "<table border=\"1\" class=\"dataframe\">\n",
       "  <thead>\n",
       "    <tr style=\"text-align: right;\">\n",
       "      <th></th>\n",
       "      <th>InvoiceNo</th>\n",
       "      <th>StockCode</th>\n",
       "      <th>Description</th>\n",
       "      <th>Quantity</th>\n",
       "      <th>InvoiceDate</th>\n",
       "      <th>UnitPrice</th>\n",
       "      <th>CustomerID</th>\n",
       "    </tr>\n",
       "  </thead>\n",
       "  <tbody>\n",
       "    <tr>\n",
       "      <th>61619</th>\n",
       "      <td>541431</td>\n",
       "      <td>23166</td>\n",
       "      <td>MEDIUM CERAMIC TOP STORAGE JAR</td>\n",
       "      <td>74215</td>\n",
       "      <td>2011-01-18 10:01:00</td>\n",
       "      <td>1.04</td>\n",
       "      <td>12346.0</td>\n",
       "    </tr>\n",
       "    <tr>\n",
       "      <th>61624</th>\n",
       "      <td>C541433</td>\n",
       "      <td>23166</td>\n",
       "      <td>MEDIUM CERAMIC TOP STORAGE JAR</td>\n",
       "      <td>-74215</td>\n",
       "      <td>2011-01-18 10:17:00</td>\n",
       "      <td>1.04</td>\n",
       "      <td>12346.0</td>\n",
       "    </tr>\n",
       "    <tr>\n",
       "      <th>31983</th>\n",
       "      <td>C539037</td>\n",
       "      <td>22474</td>\n",
       "      <td>SPACEBOY TV DINNER TRAY</td>\n",
       "      <td>-32</td>\n",
       "      <td>2010-12-15 14:42:00</td>\n",
       "      <td>4.25</td>\n",
       "      <td>12666.0</td>\n",
       "    </tr>\n",
       "    <tr>\n",
       "      <th>31982</th>\n",
       "      <td>C539037</td>\n",
       "      <td>84792</td>\n",
       "      <td>ENCHANTED BIRD COATHANGER 5 HOOK</td>\n",
       "      <td>-24</td>\n",
       "      <td>2010-12-15 14:42:00</td>\n",
       "      <td>3.81</td>\n",
       "      <td>12666.0</td>\n",
       "    </tr>\n",
       "    <tr>\n",
       "      <th>18974</th>\n",
       "      <td>C537824</td>\n",
       "      <td>22220</td>\n",
       "      <td>CAKE STAND LOVEBIRD 2 TIER WHITE</td>\n",
       "      <td>-1</td>\n",
       "      <td>2010-12-08 14:27:00</td>\n",
       "      <td>9.95</td>\n",
       "      <td>12870.0</td>\n",
       "    </tr>\n",
       "    <tr>\n",
       "      <th>18975</th>\n",
       "      <td>C537824</td>\n",
       "      <td>22784</td>\n",
       "      <td>LANTERN CREAM GAZEBO</td>\n",
       "      <td>-1</td>\n",
       "      <td>2010-12-08 14:27:00</td>\n",
       "      <td>4.95</td>\n",
       "      <td>12870.0</td>\n",
       "    </tr>\n",
       "    <tr>\n",
       "      <th>283862</th>\n",
       "      <td>561811</td>\n",
       "      <td>22456</td>\n",
       "      <td>NATURAL SLATE CHALKBOARD LARGE</td>\n",
       "      <td>18</td>\n",
       "      <td>2011-07-29 15:12:00</td>\n",
       "      <td>4.25</td>\n",
       "      <td>13106.0</td>\n",
       "    </tr>\n",
       "    <tr>\n",
       "      <th>288420</th>\n",
       "      <td>C562160</td>\n",
       "      <td>22456</td>\n",
       "      <td>NATURAL SLATE CHALKBOARD LARGE</td>\n",
       "      <td>-4</td>\n",
       "      <td>2011-08-03 11:50:00</td>\n",
       "      <td>4.25</td>\n",
       "      <td>13106.0</td>\n",
       "    </tr>\n",
       "  </tbody>\n",
       "</table>\n",
       "</div>"
      ],
      "text/plain": [
       "       InvoiceNo StockCode                       Description  Quantity  \\\n",
       "61619     541431     23166    MEDIUM CERAMIC TOP STORAGE JAR     74215   \n",
       "61624    C541433     23166    MEDIUM CERAMIC TOP STORAGE JAR    -74215   \n",
       "31983    C539037     22474           SPACEBOY TV DINNER TRAY       -32   \n",
       "31982    C539037     84792  ENCHANTED BIRD COATHANGER 5 HOOK       -24   \n",
       "18974    C537824     22220  CAKE STAND LOVEBIRD 2 TIER WHITE        -1   \n",
       "18975    C537824     22784             LANTERN CREAM GAZEBO         -1   \n",
       "283862    561811     22456   NATURAL SLATE CHALKBOARD LARGE         18   \n",
       "288420   C562160     22456   NATURAL SLATE CHALKBOARD LARGE         -4   \n",
       "\n",
       "               InvoiceDate  UnitPrice  CustomerID  \n",
       "61619  2011-01-18 10:01:00       1.04     12346.0  \n",
       "61624  2011-01-18 10:17:00       1.04     12346.0  \n",
       "31983  2010-12-15 14:42:00       4.25     12666.0  \n",
       "31982  2010-12-15 14:42:00       3.81     12666.0  \n",
       "18974  2010-12-08 14:27:00       9.95     12870.0  \n",
       "18975  2010-12-08 14:27:00       4.95     12870.0  \n",
       "283862 2011-07-29 15:12:00       4.25     13106.0  \n",
       "288420 2011-08-03 11:50:00       4.25     13106.0  "
      ]
     },
     "execution_count": 18,
     "metadata": {},
     "output_type": "execute_result"
    }
   ],
   "source": [
    "aggregate_table = df.copy()\n",
    "aggregate_table['count_per_customer'] = aggregate_table.groupby('CustomerID')['CustomerID'].transform('count')\n",
    "aggregate_table['min_per_customer'] = aggregate_table.groupby('CustomerID')['RowTotal'].transform('min')\n",
    "\n",
    "aggregate_table[\n",
    "    (aggregate_table['count_per_customer'] == 2) \n",
    "    & (aggregate_table['min_per_customer'] < 0)\n",
    "].sort_values(by=['CustomerID', 'StockCode', 'InvoiceDate']).loc[:, 'InvoiceNo':'CustomerID'].head(n=8)"
   ]
  },
  {
   "cell_type": "markdown",
   "metadata": {},
   "source": [
    "For ease, order items were filtered down to customers with only 2 row items and at least 1 negative row item. We notice several interesting cases:\n",
    "- It is confirmed that indeed, new items are added in case of a cancellation instead of old rows being updated;\n",
    "- Partial cancellations are possible, since the quantities don't always match up;\n",
    "- Not every cancellation has a matching pair (these could be cancellations of orders placed before 01/12/2010)."
   ]
  },
  {
   "cell_type": "code",
   "execution_count": 324,
   "metadata": {},
   "outputs": [
    {
     "data": {
      "text/plain": [
       "<matplotlib.axes._subplots.AxesSubplot at 0x276f6eef3c8>"
      ]
     },
     "execution_count": 324,
     "metadata": {},
     "output_type": "execute_result"
    },
    {
     "data": {
      "image/png": "[encoded data removed]",
      "text/plain": [
       "<matplotlib.figure.Figure at 0x27683df75c0>"
      ]
     },
     "metadata": {},
     "output_type": "display_data"
    }
   ],
   "source": [
    "orders_count = pd.DataFrame({'Orders Count': [orders.shape[0] - cancelled_orders.shape[0], cancelled_orders.shape[0]]},\n",
    "                             index=['Processed Orders', 'Cancelled Orders'])\n",
    "\n",
    "total_items_count = sum(df['Quantity'])\n",
    "refunded_items_count = sum(df[df['InvoiceNo'].str.contains('C')]['Quantity']) * -1\n",
    "items_count = pd.DataFrame({'Items Count': [total_items_count - refunded_items_count, refunded_items_count]},\n",
    "                             index=['Sold Items', 'Returned Items'])\n",
    "\n",
    "fig, axes = plt.subplots(1, 2)\n",
    "axes[0].axis('off')\n",
    "axes[1].axis('off')\n",
    "\n",
    "orders_count.plot(kind='pie', y='Orders Count', autopct='%.2f', ax=axes[0], title='Order Statuses', figsize=(14, 7))\n",
    "items_count.plot(kind='pie', y='Items Count', autopct='%.2f', ax=axes[1], title='Returned Purchased', figsize=(14, 7))"
   ]
  },
  {
   "cell_type": "markdown",
   "metadata": {},
   "source": [
    "Almost 15% of all orders are cancellations, but only ~5% of items are cancellend (due to partial cancellations)\n",
    "### 2.5. Countries\n",
    "We want to know how orders are distributed throughout the world."
   ]
  },
  {
   "cell_type": "code",
   "execution_count": 147,
   "metadata": {},
   "outputs": [
    {
     "name": "stdout",
     "output_type": "stream",
     "text": [
      "Orders Distribution around the World\n"
     ]
    },
    {
     "data": {
      "text/html": [
       "<div>\n",
       "<style>\n",
       "    .dataframe thead tr:only-child th {\n",
       "        text-align: right;\n",
       "    }\n",
       "\n",
       "    .dataframe thead th {\n",
       "        text-align: left;\n",
       "    }\n",
       "\n",
       "    .dataframe tbody tr th {\n",
       "        vertical-align: top;\n",
       "    }\n",
       "</style>\n",
       "<table border=\"1\" class=\"dataframe\">\n",
       "  <thead>\n",
       "    <tr style=\"text-align: right;\">\n",
       "      <th></th>\n",
       "      <th>Country</th>\n",
       "      <th>Orders</th>\n",
       "      <th>Percentage</th>\n",
       "    </tr>\n",
       "  </thead>\n",
       "  <tbody>\n",
       "    <tr>\n",
       "      <th>14</th>\n",
       "      <td>United Kingdom</td>\n",
       "      <td>23494</td>\n",
       "      <td>91.030261</td>\n",
       "    </tr>\n",
       "    <tr>\n",
       "      <th>9</th>\n",
       "      <td>Germany</td>\n",
       "      <td>603</td>\n",
       "      <td>2.336394</td>\n",
       "    </tr>\n",
       "    <tr>\n",
       "      <th>13</th>\n",
       "      <td>France</td>\n",
       "      <td>461</td>\n",
       "      <td>1.786199</td>\n",
       "    </tr>\n",
       "    <tr>\n",
       "      <th>16</th>\n",
       "      <td>Ireland</td>\n",
       "      <td>360</td>\n",
       "      <td>1.394862</td>\n",
       "    </tr>\n",
       "    <tr>\n",
       "      <th>3</th>\n",
       "      <td>Belgium</td>\n",
       "      <td>119</td>\n",
       "      <td>0.461079</td>\n",
       "    </tr>\n",
       "  </tbody>\n",
       "</table>\n",
       "</div>"
      ],
      "text/plain": [
       "           Country  Orders  Percentage\n",
       "14  United Kingdom   23494   91.030261\n",
       "9          Germany     603    2.336394\n",
       "13          France     461    1.786199\n",
       "16         Ireland     360    1.394862\n",
       "3          Belgium     119    0.461079"
      ]
     },
     "execution_count": 147,
     "metadata": {},
     "output_type": "execute_result"
    }
   ],
   "source": [
    "orders_per_country = orders.groupby(\"Country\").agg({\n",
    "    'Country':'first',\n",
    "    'InvoiceNo':'count'\n",
    "}).rename(columns={'InvoiceNo':'Orders'})\n",
    "\n",
    "orders_per_country.loc['EIRE', 'Country'] = 'Ireland'\n",
    "orders_per_country.loc['Czech Republic', 'Country'] = 'Czech Rep.'\n",
    "orders_per_country.loc['USA', 'Country'] = 'United States'\n",
    "\n",
    "world = gpd.read_file(gpd.datasets.get_path('naturalearth_lowres'))\n",
    "world = world.merge(orders_per_country, left_on=\"name\", right_on=\"Country\")\n",
    "\n",
    "orders_count = sum(world[\"Orders\"])\n",
    "world['Percentage'] = world['Orders'] / orders_count * 100\n",
    "\n",
    "print('Orders Distribution around the World')\n",
    "world.sort_values('Orders', ascending=False)[['Country', 'Orders', 'Percentage']].head()"
   ]
  },
  {
   "cell_type": "markdown",
   "metadata": {},
   "source": [
    "A little over 91% of all orders were placed from the UK, but the next 4 biggest markets are from Europe as well. Taking a closer look, we confirm that almost all orders are placed from Europe."
   ]
  },
  {
   "cell_type": "code",
   "execution_count": 130,
   "metadata": {},
   "outputs": [
    {
     "data": {
      "text/plain": [
       "'99.43% of orders were placed from Europe'"
      ]
     },
     "execution_count": 130,
     "metadata": {},
     "output_type": "execute_result"
    }
   ],
   "source": [
    "\"%.2f%% of orders were placed from Europe\" % sum(world[world['continent'] == 'Europe']['Percentage'])"
   ]
  },
  {
   "cell_type": "code",
   "execution_count": 195,
   "metadata": {},
   "outputs": [
    {
     "data": {
      "image/png": "[encoded data removed]",
      "text/plain": [
       "<matplotlib.figure.Figure at 0x7f034b6993c8>"
      ]
     },
     "metadata": {},
     "output_type": "display_data"
    }
   ],
   "source": [
    "ax = world.plot(column='Orders', cmap='Blues', figsize=(16, 7), scheme='fisher_jenks', k=7, legend=True)\n",
    "\n",
    "ax.set_axis_off()\n",
    "ax.set_title('Global Distribution of Orders')\n",
    "ax.get_legend().set_bbox_to_anchor((.12, .4))"
   ]
  },
  {
   "cell_type": "markdown",
   "metadata": {},
   "source": [
    "### 2.6. Sales\n",
    "We start by calculating the **Average Order Value**, followed by a look at trends in revenue."
   ]
  },
  {
   "cell_type": "code",
   "execution_count": 322,
   "metadata": {},
   "outputs": [
    {
     "data": {
      "text/html": [
       "<div>\n",
       "<style scoped>\n",
       "    .dataframe tbody tr th:only-of-type {\n",
       "        vertical-align: middle;\n",
       "    }\n",
       "\n",
       "    .dataframe tbody tr th {\n",
       "        vertical-align: top;\n",
       "    }\n",
       "\n",
       "    .dataframe thead th {\n",
       "        text-align: right;\n",
       "    }\n",
       "</style>\n",
       "<table border=\"1\" class=\"dataframe\">\n",
       "  <thead>\n",
       "    <tr style=\"text-align: right;\">\n",
       "      <th></th>\n",
       "      <th>Total Revenue</th>\n",
       "      <th>Orders Count</th>\n",
       "      <th>Average Order Value</th>\n",
       "    </tr>\n",
       "  </thead>\n",
       "  <tbody>\n",
       "    <tr>\n",
       "      <th>value</th>\n",
       "      <td>10666K</td>\n",
       "      <td>19.96K</td>\n",
       "      <td>534.40</td>\n",
       "    </tr>\n",
       "  </tbody>\n",
       "</table>\n",
       "</div>"
      ],
      "text/plain": [
       "      Total Revenue Orders Count Average Order Value\n",
       "value        10666K       19.96K              534.40"
      ]
     },
     "execution_count": 322,
     "metadata": {},
     "output_type": "execute_result"
    }
   ],
   "source": [
    "pd.DataFrame({\n",
    "    'Total Revenue': '%dK' % (sum(clean_orders.GrandTotal) / 1000),\n",
    "    'Orders Count': '%.2fK' % (clean_orders.shape[0] / 1000),\n",
    "    'Average Order Value': '%.2f' % (sum(clean_orders.GrandTotal) / clean_orders.shape[0])\n",
    "}, columns=[\n",
    "    'Total Revenue', 'Orders Count', 'Average Order Value'\n",
    "], index=['value'])"
   ]
  },
  {
   "cell_type": "code",
   "execution_count": 148,
   "metadata": {},
   "outputs": [
    {
     "data": {
      "image/png": "[encoded data removed]",
      "text/plain": [
       "<matplotlib.figure.Figure at 0x27684da1748>"
      ]
     },
     "metadata": {},
     "output_type": "display_data"
    }
   ],
   "source": [
    "monthly_stats = orders[orders[\"GrandTotal\"] > 0].groupby(pd.Grouper(key='InvoiceDate', freq='M')).agg({\n",
    "    'GrandTotal': 'sum', \n",
    "    'ItemsCount': 'sum'\n",
    "}).rename(columns={\n",
    "    'GrandTotal': 'Revenue',\n",
    "    'ItemsCount': 'Items Sold'\n",
    "})\n",
    "\n",
    "monthly_stats = monthly_stats / 1000\n",
    "ax = monthly_stats.plot(kind='line', figsize=(16,7))\n",
    "ax.set_title('Sales (in thousands)')\n",
    "ax.title.set_position([.5, 1.05])\n",
    "ax.title.set_size(14)"
   ]
  },
  {
   "cell_type": "markdown",
   "metadata": {},
   "source": [
    "There is an increase in demand which starts in **August** and reaches its peak in **November**  before sales settle down once again in **December**. Sales in **November** are from 2x up to 3x higher than sales outside this high demand quarter. This increase most likely reflects customers (wholesalers) preparation for the winter holidays.\n",
    "\n",
    "Next, we also check how cancellations are distributed in time."
   ]
  },
  {
   "cell_type": "code",
   "execution_count": 147,
   "metadata": {},
   "outputs": [
    {
     "data": {
      "image/png": "[encoded data removed]",
      "text/plain": [
       "<matplotlib.figure.Figure at 0x276816d1dd8>"
      ]
     },
     "metadata": {},
     "output_type": "display_data"
    }
   ],
   "source": [
    "monthly_stats = orders[orders[\"GrandTotal\"] < 0].groupby(pd.Grouper(key='InvoiceDate', freq='M')).agg({\n",
    "    'GrandTotal': 'sum', \n",
    "    'ItemsCount': 'sum'\n",
    "}).rename(columns={\n",
    "    'GrandTotal': 'Revenue',\n",
    "    'ItemsCount': 'Items'\n",
    "})\n",
    "\n",
    "monthly_stats = monthly_stats / 1000 * -1\n",
    "ax = monthly_stats.plot(kind='line', figsize=(16,7))\n",
    "ax.set_title('Cancellations (in thousands)')\n",
    "ax.title.set_position([.5, 1.05])\n",
    "ax.title.set_size(14)"
   ]
  },
  {
   "cell_type": "markdown",
   "metadata": {},
   "source": [
    "Cancellations are fairly equally distributed throughout the year. There is in increase in **November** which could be a consequence to the increase in revenue. Another notable increase is in **January** which is not correlated with an increase in sales. One speculation is that wholesalers refunded items they don't need anymore after the winter holidays passed. This can be further investigated."
   ]
  },
  {
   "cell_type": "markdown",
   "metadata": {},
   "source": [
    "### 2.7. Guest Orders\n",
    "We previously saw that some orders don't have a `CustomerID` and were likely placed by guests (customers with no accounts on the store). Now, we check how these orders are distributed."
   ]
  },
  {
   "cell_type": "code",
   "execution_count": 271,
   "metadata": {},
   "outputs": [
    {
     "data": {
      "image/png": "[encoded data removed]",
      "text/plain": [
       "<matplotlib.figure.Figure at 0x276fc977e80>"
      ]
     },
     "metadata": {},
     "output_type": "display_data"
    }
   ],
   "source": [
    "guest_orders_count = orders[orders.CustomerID.isnull()].shape[0]\n",
    "order_types = pd.DataFrame({'Orders': [(orders.shape[0] - guest_orders_count) / 1000, guest_orders_count / 1000]}, \n",
    "                           index=['Authenticated Orders', 'Guest Orders'])\n",
    "\n",
    "title = \"%.2f%% of all orders were placed by guests\" % (guest_orders_count / orders.shape[0] * 100)\n",
    "ax = order_types.plot(kind='barh', stacked=True, y='Orders', title=title, figsize=(14, 4), legend=False)\n",
    "ax.title.set_position([.5, 1.05])\n",
    "ax.title.set_size(14)"
   ]
  },
  {
   "cell_type": "markdown",
   "metadata": {},
   "source": [
    "Roughly 1 in 7 orders are placed by customers without an account. Furthermore, we can see below that 2 from the top 5 sales were placed by guests, thus bigger orders don't necesarily require an account."
   ]
  },
  {
   "cell_type": "code",
   "execution_count": 161,
   "metadata": {},
   "outputs": [
    {
     "data": {
      "text/html": [
       "<div>\n",
       "<style scoped>\n",
       "    .dataframe tbody tr th:only-of-type {\n",
       "        vertical-align: middle;\n",
       "    }\n",
       "\n",
       "    .dataframe tbody tr th {\n",
       "        vertical-align: top;\n",
       "    }\n",
       "\n",
       "    .dataframe thead th {\n",
       "        text-align: right;\n",
       "    }\n",
       "</style>\n",
       "<table border=\"1\" class=\"dataframe\">\n",
       "  <thead>\n",
       "    <tr style=\"text-align: right;\">\n",
       "      <th></th>\n",
       "      <th>InvoiceNo</th>\n",
       "      <th>ProductsCount</th>\n",
       "      <th>ItemsCount</th>\n",
       "      <th>GrandTotal</th>\n",
       "      <th>Country</th>\n",
       "      <th>InvoiceDate</th>\n",
       "      <th>CustomerID</th>\n",
       "    </tr>\n",
       "  </thead>\n",
       "  <tbody>\n",
       "    <tr>\n",
       "      <th>22025</th>\n",
       "      <td>581483</td>\n",
       "      <td>1</td>\n",
       "      <td>80995</td>\n",
       "      <td>168469.60</td>\n",
       "      <td>United Kingdom</td>\n",
       "      <td>2011-12-09 09:15:00</td>\n",
       "      <td>16446.0</td>\n",
       "    </tr>\n",
       "    <tr>\n",
       "      <th>2303</th>\n",
       "      <td>541431</td>\n",
       "      <td>1</td>\n",
       "      <td>74215</td>\n",
       "      <td>77183.60</td>\n",
       "      <td>United Kingdom</td>\n",
       "      <td>2011-01-18 10:01:00</td>\n",
       "      <td>12346.0</td>\n",
       "    </tr>\n",
       "    <tr>\n",
       "      <th>18776</th>\n",
       "      <td>574941</td>\n",
       "      <td>101</td>\n",
       "      <td>14149</td>\n",
       "      <td>52940.94</td>\n",
       "      <td>United Kingdom</td>\n",
       "      <td>2011-11-07 17:42:00</td>\n",
       "      <td>NaN</td>\n",
       "    </tr>\n",
       "    <tr>\n",
       "      <th>19468</th>\n",
       "      <td>576365</td>\n",
       "      <td>99</td>\n",
       "      <td>13956</td>\n",
       "      <td>50653.91</td>\n",
       "      <td>United Kingdom</td>\n",
       "      <td>2011-11-14 17:55:00</td>\n",
       "      <td>NaN</td>\n",
       "    </tr>\n",
       "    <tr>\n",
       "      <th>9741</th>\n",
       "      <td>556444</td>\n",
       "      <td>1</td>\n",
       "      <td>60</td>\n",
       "      <td>38970.00</td>\n",
       "      <td>United Kingdom</td>\n",
       "      <td>2011-06-10 15:28:00</td>\n",
       "      <td>15098.0</td>\n",
       "    </tr>\n",
       "  </tbody>\n",
       "</table>\n",
       "</div>"
      ],
      "text/plain": [
       "      InvoiceNo  ProductsCount  ItemsCount  GrandTotal         Country  \\\n",
       "22025    581483              1       80995   168469.60  United Kingdom   \n",
       "2303     541431              1       74215    77183.60  United Kingdom   \n",
       "18776    574941            101       14149    52940.94  United Kingdom   \n",
       "19468    576365             99       13956    50653.91  United Kingdom   \n",
       "9741     556444              1          60    38970.00  United Kingdom   \n",
       "\n",
       "              InvoiceDate  CustomerID  \n",
       "22025 2011-12-09 09:15:00     16446.0  \n",
       "2303  2011-01-18 10:01:00     12346.0  \n",
       "18776 2011-11-07 17:42:00         NaN  \n",
       "19468 2011-11-14 17:55:00         NaN  \n",
       "9741  2011-06-10 15:28:00     15098.0  "
      ]
     },
     "execution_count": 161,
     "metadata": {},
     "output_type": "execute_result"
    }
   ],
   "source": [
    "orders.sort_values(by=\"GrandTotal\", ascending=False).head()"
   ]
  },
  {
   "cell_type": "markdown",
   "metadata": {},
   "source": [
    "A high number of guest orders in a short period might indicate a fault on the store. We take a look how guest orders are distributed throughout the year, but don't see anything out of the ordinary."
   ]
  },
  {
   "cell_type": "code",
   "execution_count": 264,
   "metadata": {},
   "outputs": [
    {
     "data": {
      "text/plain": [
       "<matplotlib.legend.Legend at 0x276fc992c50>"
      ]
     },
     "execution_count": 264,
     "metadata": {},
     "output_type": "execute_result"
    },
    {
     "data": {
      "image/png": "[encoded data removed]",
      "text/plain": [
       "<matplotlib.figure.Figure at 0x276f6d7cb00>"
      ]
     },
     "metadata": {},
     "output_type": "display_data"
    }
   ],
   "source": [
    "authenticated_orders = orders[(orders.CustomerID.notnull()) & (orders.GrandTotal > 0)] \\\n",
    "    .groupby(pd.Grouper(key='InvoiceDate', freq='M'))['InvoiceNo'].count()\n",
    "    \n",
    "guest_orders = orders[(orders.CustomerID.isnull()) & (orders.GrandTotal > 0)] \\\n",
    "    .groupby(pd.Grouper(key='InvoiceDate', freq='M'))['InvoiceNo'].count()\n",
    "\n",
    "fig, ax = plt.subplots(figsize=(16,7))\n",
    "plt.bar(authenticated_orders.index, authenticated_orders, width=15)\n",
    "plt.bar(guest_orders.index, guest_orders, bottom=authenticated_orders, width=15)\n",
    "\n",
    "ax.xaxis.set_major_formatter(mdates.DateFormatter('%Y-%m'))\n",
    "ax.set_title('Orders distribution')\n",
    "ax.title.set_position([.5, 1.05])\n",
    "ax.title.set_size(14)\n",
    "plt.legend(('Authenticated Orders', 'Guest Orders'), fancybox=True)\n"
   ]
  },
  {
   "cell_type": "markdown",
   "metadata": {},
   "source": [
    "We also notice some strange orders with a 0 grand total, almost all of which have been placed by guests. This could be orders completed offline."
   ]
  },
  {
   "cell_type": "code",
   "execution_count": 270,
   "metadata": {},
   "outputs": [
    {
     "name": "stdout",
     "output_type": "stream",
     "text": [
      "2102 (that is 8.12%) of all orders have a grand total of £0.00. Out of these 2098 have been placed by 'Guests'\n"
     ]
    }
   ],
   "source": [
    "free_orders = orders[orders.GrandTotal == 0].shape[0]\n",
    "free_guest_orders = orders[(orders.GrandTotal == 0) & (orders.CustomerID.isnull())].shape[0]\n",
    "free_orders_percent = free_orders / orders.shape[0] * 100\n",
    "print(\"%d (that is %.2f%%) of all orders have a grand total of £0.00. Out of these %d have been placed by 'Guests'\" \n",
    "      % (free_orders, free_orders_percent, free_guest_orders))"
   ]
  },
  {
   "cell_type": "markdown",
   "metadata": {},
   "source": [
    "### 2.8. Customers\n",
    "In this section we take a look how often customers purchase from the store. Guest orders are irrelevant for this purpose so we exclude them, then take a look at our most loyal customers."
   ]
  },
  {
   "cell_type": "code",
   "execution_count": 288,
   "metadata": {},
   "outputs": [
    {
     "name": "stdout",
     "output_type": "stream",
     "text": [
      "Top 5 customers in terms of \"Revenue\"\n"
     ]
    },
    {
     "data": {
      "text/html": [
       "<div>\n",
       "<style scoped>\n",
       "    .dataframe tbody tr th:only-of-type {\n",
       "        vertical-align: middle;\n",
       "    }\n",
       "\n",
       "    .dataframe tbody tr th {\n",
       "        vertical-align: top;\n",
       "    }\n",
       "\n",
       "    .dataframe thead th {\n",
       "        text-align: right;\n",
       "    }\n",
       "</style>\n",
       "<table border=\"1\" class=\"dataframe\">\n",
       "  <thead>\n",
       "    <tr style=\"text-align: right;\">\n",
       "      <th></th>\n",
       "      <th>CustomerID</th>\n",
       "      <th>Revenue</th>\n",
       "    </tr>\n",
       "  </thead>\n",
       "  <tbody>\n",
       "    <tr>\n",
       "      <th>1703</th>\n",
       "      <td>14646.0</td>\n",
       "      <td>279489.02</td>\n",
       "    </tr>\n",
       "    <tr>\n",
       "      <th>4233</th>\n",
       "      <td>18102.0</td>\n",
       "      <td>256438.49</td>\n",
       "    </tr>\n",
       "    <tr>\n",
       "      <th>3758</th>\n",
       "      <td>17450.0</td>\n",
       "      <td>187482.17</td>\n",
       "    </tr>\n",
       "    <tr>\n",
       "      <th>1895</th>\n",
       "      <td>14911.0</td>\n",
       "      <td>132572.62</td>\n",
       "    </tr>\n",
       "    <tr>\n",
       "      <th>55</th>\n",
       "      <td>12415.0</td>\n",
       "      <td>123725.45</td>\n",
       "    </tr>\n",
       "  </tbody>\n",
       "</table>\n",
       "</div>"
      ],
      "text/plain": [
       "      CustomerID    Revenue\n",
       "1703     14646.0  279489.02\n",
       "4233     18102.0  256438.49\n",
       "3758     17450.0  187482.17\n",
       "1895     14911.0  132572.62\n",
       "55       12415.0  123725.45"
      ]
     },
     "metadata": {},
     "output_type": "display_data"
    },
    {
     "name": "stdout",
     "output_type": "stream",
     "text": [
      "Top 5 customers in terms of \"Orders\"\n"
     ]
    },
    {
     "data": {
      "text/html": [
       "<div>\n",
       "<style scoped>\n",
       "    .dataframe tbody tr th:only-of-type {\n",
       "        vertical-align: middle;\n",
       "    }\n",
       "\n",
       "    .dataframe tbody tr th {\n",
       "        vertical-align: top;\n",
       "    }\n",
       "\n",
       "    .dataframe thead th {\n",
       "        text-align: right;\n",
       "    }\n",
       "</style>\n",
       "<table border=\"1\" class=\"dataframe\">\n",
       "  <thead>\n",
       "    <tr style=\"text-align: right;\">\n",
       "      <th></th>\n",
       "      <th>CustomerID</th>\n",
       "      <th>Orders</th>\n",
       "    </tr>\n",
       "  </thead>\n",
       "  <tbody>\n",
       "    <tr>\n",
       "      <th>1895</th>\n",
       "      <td>14911.0</td>\n",
       "      <td>248</td>\n",
       "    </tr>\n",
       "    <tr>\n",
       "      <th>330</th>\n",
       "      <td>12748.0</td>\n",
       "      <td>224</td>\n",
       "    </tr>\n",
       "    <tr>\n",
       "      <th>4042</th>\n",
       "      <td>17841.0</td>\n",
       "      <td>169</td>\n",
       "    </tr>\n",
       "    <tr>\n",
       "      <th>1674</th>\n",
       "      <td>14606.0</td>\n",
       "      <td>128</td>\n",
       "    </tr>\n",
       "    <tr>\n",
       "      <th>568</th>\n",
       "      <td>13089.0</td>\n",
       "      <td>118</td>\n",
       "    </tr>\n",
       "  </tbody>\n",
       "</table>\n",
       "</div>"
      ],
      "text/plain": [
       "      CustomerID  Orders\n",
       "1895     14911.0     248\n",
       "330      12748.0     224\n",
       "4042     17841.0     169\n",
       "1674     14606.0     128\n",
       "568      13089.0     118"
      ]
     },
     "metadata": {},
     "output_type": "display_data"
    }
   ],
   "source": [
    "orders_per_customer = orders[orders.CustomerID.notnull()].groupby('CustomerID').agg({\n",
    "    'GrandTotal': 'sum',\n",
    "    'ItemsCount': 'sum',\n",
    "    'ProductsCount': 'sum',\n",
    "    'InvoiceNo': 'count'\n",
    "}).reset_index().rename(columns={\n",
    "    'GrandTotal': 'Revenue',\n",
    "    'ItemsCount': 'Items',\n",
    "    'ProductsCount': 'Products',\n",
    "    'InvoiceNo': 'Orders'\n",
    "})\n",
    "\n",
    "print('Top 5 customers in terms of \"Revenue\"')\n",
    "display(orders_per_customer.sort_values(by='Revenue', ascending=False)[['CustomerID', 'Revenue']].head())\n",
    "\n",
    "print('Top 5 customers in terms of \"Orders\"')\n",
    "display(orders_per_customer.sort_values(by='Orders', ascending=False)[['CustomerID', 'Orders']].head())"
   ]
  },
  {
   "cell_type": "markdown",
   "metadata": {},
   "source": [
    "The **Repeat Purchase Rate** is an important metric when it comes to loyalty and customer retention. It represents the percentage of users who shopped more than once on the store."
   ]
  },
  {
   "cell_type": "code",
   "execution_count": 303,
   "metadata": {},
   "outputs": [
    {
     "data": {
      "text/html": [
       "<div>\n",
       "<style scoped>\n",
       "    .dataframe tbody tr th:only-of-type {\n",
       "        vertical-align: middle;\n",
       "    }\n",
       "\n",
       "    .dataframe tbody tr th {\n",
       "        vertical-align: top;\n",
       "    }\n",
       "\n",
       "    .dataframe thead th {\n",
       "        text-align: right;\n",
       "    }\n",
       "</style>\n",
       "<table border=\"1\" class=\"dataframe\">\n",
       "  <thead>\n",
       "    <tr style=\"text-align: right;\">\n",
       "      <th></th>\n",
       "      <th>Customers Count</th>\n",
       "      <th>Repeat Purchasers Count</th>\n",
       "      <th>Repeat Purchase Rate</th>\n",
       "      <th>Average Orders per Customer</th>\n",
       "      <th>Median Orders per Customer</th>\n",
       "    </tr>\n",
       "  </thead>\n",
       "  <tbody>\n",
       "    <tr>\n",
       "      <th>value</th>\n",
       "      <td>4372</td>\n",
       "      <td>3059</td>\n",
       "      <td>0.6997%</td>\n",
       "      <td>5.08</td>\n",
       "      <td>3</td>\n",
       "    </tr>\n",
       "  </tbody>\n",
       "</table>\n",
       "</div>"
      ],
      "text/plain": [
       "       Customers Count  Repeat Purchasers Count Repeat Purchase Rate  \\\n",
       "value             4372                     3059              0.6997%   \n",
       "\n",
       "      Average Orders per Customer Median Orders per Customer  \n",
       "value                        5.08                          3  "
      ]
     },
     "execution_count": 303,
     "metadata": {},
     "output_type": "execute_result"
    }
   ],
   "source": [
    "repeat_purchase_rate = orders_per_customer[orders_per_customer.Orders > 1].shape[0] / orders_per_customer.shape[0]\n",
    "average_orders = sum(orders_per_customer.Orders) / orders_per_customer.shape[0]\n",
    "\n",
    "pd.DataFrame([{\n",
    "    'Customers Count': orders_per_customer.shape[0],\n",
    "    'Repeat Purchasers Count': orders_per_customer[orders_per_customer.Orders > 1].shape[0],\n",
    "    'Repeat Purchase Rate': '%.4f%%' % repeat_purchase_rate,\n",
    "    'Average Orders per Customer': '%.2f' % average_orders,\n",
    "    'Median Orders per Customer': '%d' % orders_per_customer.Orders.median()\n",
    "}], columns=[\n",
    "    'Customers Count', 'Repeat Purchasers Count', 'Repeat Purchase Rate', 'Average Orders per Customer', 'Median Orders per Customer'\n",
    "], index=['value'])"
   ]
  },
  {
   "cell_type": "markdown",
   "metadata": {},
   "source": [
    "We see a very high repeat purchase rate of almost **70%**, customers placing **5** orders on average. This is a sign of a loyal customer base.\n",
    "\n",
    "## 3. Products Insight"
   ]
  },
  {
   "cell_type": "code",
   "execution_count": null,
   "metadata": {},
   "outputs": [],
   "source": []
  }
 ],
 "metadata": {
  "kernelspec": {
   "display_name": "Python 3",
   "language": "python",
   "name": "python3"
  },
  "language_info": {
   "codemirror_mode": {
    "name": "ipython",
    "version": 3
   },
   "file_extension": ".py",
   "mimetype": "text/x-python",
   "name": "python",
   "nbconvert_exporter": "python",
   "pygments_lexer": "ipython3",
   "version": "3.6.1"
  }
 },
 "nbformat": 4,
 "nbformat_minor": 2
}
