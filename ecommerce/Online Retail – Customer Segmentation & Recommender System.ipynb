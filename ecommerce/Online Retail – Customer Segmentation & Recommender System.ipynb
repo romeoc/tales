{
 "cells": [
  {
   "cell_type": "markdown",
   "metadata": {},
   "source": [
    "# Online Retail – Customer Segmentation & Recommender System\n",
    "Romeo Cozac (June, 2018)\n",
    "___\n",
    "**The Data**: This is a transnational data set which contains all the transactions occurring between 01/12/2010 and 09/12/2011 for a UK-based and registered non-store online retail. The company mainly sells unique all-occasion gifts. Many customers of the company are wholesalers.\n",
    "\n",
    "**Goals**: Through this notebook we aim to better understand customer behaviour as well as trends in sales, and to use this information to answer business questions. We look at new customer aquisition through time and repeat purchase rates, as we want to segment customers based on how much value they are likely to bring in the future. Also, we check which products/categories each one of our segments prefer and which ones are more troublesome. Finally, we build a collaborative filtering based recommender system.\n",
    "___\n",
    "**1. Setup and Prerequisites**\n",
    "\n",
    "**2. Visualizing and Exploring the Data**"
   ]
  },
  {
   "cell_type": "markdown",
   "metadata": {},
   "source": [
    "## 1. Setup and Prerequisites\n",
    "As a first step, we download the data under from kaggle into to the `data/` directory"
   ]
  },
  {
   "cell_type": "code",
   "execution_count": null,
   "metadata": {},
   "outputs": [],
   "source": [
    "!kaggle datasets download -d carrie1/ecommerce-data -p data/"
   ]
  },
  {
   "cell_type": "markdown",
   "metadata": {},
   "source": [
    "Next, we load the modules and dependencies used in the notebook"
   ]
  },
  {
   "cell_type": "code",
   "execution_count": null,
   "metadata": {},
   "outputs": [],
   "source": [
    "%matplotlib inline\n",
    "\n",
    "import numpy as np\n",
    "import pandas as pd\n",
    "import matplotlib.pyplot as plt\n",
    "import geopandas as gpd\n",
    "from scipy import stats"
   ]
  },
  {
   "cell_type": "markdown",
   "metadata": {},
   "source": [
    "Finally, we load the data into memory"
   ]
  },
  {
   "cell_type": "code",
   "execution_count": null,
   "metadata": {},
   "outputs": [],
   "source": [
    "df = pd.read_csv('data/data.csv', encoding = \"ISO-8859-1\")"
   ]
  },
  {
   "cell_type": "markdown",
   "metadata": {},
   "source": [
    "## 2. Visualizing the Data\n",
    "\n",
    "Our dataset contains the following information:\n",
    "- **InvoiceNo**: *(discrete)* `string` — A unique identifier for each purchase made. <br />\n",
    "  - This variable is generally numeric. When the value starts with a \"C\", it indicates a cancelled item. <br />\n",
    "- **StockCode**: *(discrete)* `string` — A unique identifier for the product that was purchased. <br />\n",
    "  - When the fields contains only letters, it indicates a type of operation instead of a product ID (ie: discount or manual adjustment)\n",
    "- **Description**: *(discrete)* `string` — Name of the purchased product. <br />\n",
    "  - In case of a certain operation like discounts, this field will contain additional details to what appears in \"StockCode\n",
    "- **Quantity**: *(continuous)* `int` — How many products were bought on this order. <br />\n",
    "- **InvoiceDate**: *(continuous)* `date` — When the order was made. <br />\n",
    "- **UnitPrice**: *(continuous)* `float` — Product price per unit (in pound sterling). <br />\n",
    "  - This can be negative in case of a cancellation or discount\n",
    "- **CustomerID**: *(discrete)* `int` — A unique identifier for the customer who made the order. <br />\n",
    "- **Country**: *(discrete)* `string` — Location of the store."
   ]
  },
  {
   "cell_type": "code",
   "execution_count": null,
   "metadata": {},
   "outputs": [],
   "source": [
    "df.head()"
   ]
  },
  {
   "cell_type": "markdown",
   "metadata": {},
   "source": [
    "We can see that our dataset is focused on *products* (order items) instead of orders as there are duplicate `InvoiceNo`s. This means that each row represents a unique product from an order made.\n",
    "\n",
    "### 2.1. Data Preparation and Feature Engineering\n",
    "We first cast the type of **InvoiceDate** to `datetime` and add a new field called **RowTotal**, which is the total amount paid on the entry."
   ]
  },
  {
   "cell_type": "code",
   "execution_count": null,
   "metadata": {},
   "outputs": [],
   "source": [
    "df[\"InvoiceDate\"] = pd.to_datetime(df[\"InvoiceDate\"])\n",
    "df[\"RowTotal\"] = df[\"Quantity\"] * df[\"UnitPrice\"]"
   ]
  },
  {
   "cell_type": "markdown",
   "metadata": {},
   "source": [
    "Order based metrics (instead of order items) is also something we want to look at, so we create an aggregated DataFrame based on orders. We compute the **GrandTotal** for each order and count the number of unique products, as well as the total number of items purchased."
   ]
  },
  {
   "cell_type": "code",
   "execution_count": null,
   "metadata": {},
   "outputs": [],
   "source": [
    "orders = df.groupby(\"InvoiceNo\") \\\n",
    "    .agg({\n",
    "        'StockCode':'count',\n",
    "        'Quantity': 'sum',\n",
    "        'RowTotal': 'sum',\n",
    "        'Country': 'first',\n",
    "        'InvoiceDate': 'first',\n",
    "        'CustomerID': 'first'}) \\\n",
    "    .reset_index() \\\n",
    "    .rename(columns={\n",
    "        'StockCode':'ProductsCount', \n",
    "        'Quantity': 'ItemsCount', \n",
    "        'RowTotal': 'GrandTotal'\n",
    "    })\n",
    "    \n",
    "orders.head()"
   ]
  },
  {
   "cell_type": "markdown",
   "metadata": {},
   "source": [
    "### 2.2. Empty Values"
   ]
  },
  {
   "cell_type": "code",
   "execution_count": null,
   "metadata": {},
   "outputs": [],
   "source": [
    "df.info()"
   ]
  },
  {
   "cell_type": "markdown",
   "metadata": {},
   "source": [
    "The dataset contains a little over 540,000 entries (order items). Most variables have a value 100% of the time, except for the **Description**, but especially for the **CustomerID**. It is possible the entries missing a customer ID were submited by guests (people who placed an order without creating an account).\n",
    "\n",
    "We take a closer look at the **Description** field."
   ]
  },
  {
   "cell_type": "code",
   "execution_count": null,
   "metadata": {},
   "outputs": [],
   "source": [
    "no_descriptions = df[df[\"Description\"].isnull()]\n",
    "no_descriptions.head()"
   ]
  },
  {
   "cell_type": "markdown",
   "metadata": {},
   "source": [
    "Most rows that match this description are free items (**UnitPrice** is 0). We check if this is always the case, which indeed is."
   ]
  },
  {
   "cell_type": "code",
   "execution_count": null,
   "metadata": {},
   "outputs": [],
   "source": [
    "print('There are %s entries with an empty \"Description\" and a non-zero \"UnitPrice\"' % sum(no_descriptions[\"UnitPrice\"] > 0))"
   ]
  },
  {
   "cell_type": "markdown",
   "metadata": {},
   "source": [
    "### 2.3. Basic Statistics\n",
    "Knowing the smallest product price, the largest number of items purchased at once or the average sale value might be of interest. To get an accurate estimate we will exclude cancelled orders, free items and outliers (keeping ~99.7% of the values)."
   ]
  },
  {
   "cell_type": "code",
   "execution_count": null,
   "metadata": {},
   "outputs": [],
   "source": [
    "clean_transactions = df[(df[\"RowTotal\"] > 0) & (df[\"StockCode\"].str.contains('\\d', regex=True))]\n",
    "clean_transactions = clean_transactions[[\"Quantity\", \"UnitPrice\", \"RowTotal\"]]\n",
    "\n",
    "clean_orders = orders[orders[\"GrandTotal\"] > 0]\n",
    "clean_orders = clean_orders[[\"ProductsCount\", \"ItemsCount\", \"GrandTotal\"]]\n",
    "\n",
    "clean_transactions = clean_transactions[(np.abs(stats.zscore(clean_transactions)) < 3).all(axis=1)]\n",
    "clean_orders = clean_orders[(np.abs(stats.zscore(clean_orders)) < 3).all(axis=1)]"
   ]
  },
  {
   "cell_type": "code",
   "execution_count": null,
   "metadata": {},
   "outputs": [],
   "source": [
    "clean_transactions.describe()"
   ]
  },
  {
   "cell_type": "markdown",
   "metadata": {},
   "source": [
    "Looking at *order items*:\n",
    "- We are left with around 520,000 entries\n",
    "- On average 9-10 items are ordered from each product. However, the median is only 4, suggesting more orders with a lower quantity and a few orders with \"extreme\" quantities (probably wholesalers);\n",
    "- The price per unit indicates that the vendor is selling low priced items. It ranges from 4p to little over 16£, with a median close to 2£."
   ]
  },
  {
   "cell_type": "code",
   "execution_count": null,
   "metadata": {},
   "outputs": [],
   "source": [
    "clean_orders.describe()"
   ]
  },
  {
   "cell_type": "markdown",
   "metadata": {},
   "source": [
    "Looking at *orders*:\n",
    "- There are close to 20,000 orders in the dataset\n",
    "- The order statistics as well as the mean of the \"ProductsCount\" and \"ItemsCount\" indicates that the vendor is heavily focused on bulk sales. On average, more than 20 different products are purchased on every order with an average total item count of ~230 per order.\n",
    "- The average order value is little over 400£, with 75% of the orders being ~150£ or over.\n",
    "\n",
    "### 2.4. Cancelled Orders\n",
    "We want to know how many orders are cancelled."
   ]
  },
  {
   "cell_type": "code",
   "execution_count": null,
   "metadata": {},
   "outputs": [],
   "source": [
    "cancelled_orders = orders[orders['InvoiceNo'].str.contains('C')]\n",
    "cancelled_orders.head()"
   ]
  },
  {
   "cell_type": "markdown",
   "metadata": {},
   "source": [
    "Besides the **GrandTotal** the **ItemsCount** is also negative for cancelled orders. This could indicate that a new entry is created for cancellations instead of the old ones being overwritten. We wish to verify this theory."
   ]
  },
  {
   "cell_type": "code",
   "execution_count": null,
   "metadata": {
    "scrolled": true
   },
   "outputs": [],
   "source": [
    "aggregate_table = df.copy()\n",
    "aggregate_table['count_per_customer'] = aggregate_table.groupby('CustomerID')['CustomerID'].transform('count')\n",
    "aggregate_table['min_per_customer'] = aggregate_table.groupby('CustomerID')['RowTotal'].transform('min')\n",
    "\n",
    "aggregate_table[\n",
    "    (aggregate_table['count_per_customer'] == 2) \n",
    "    & (aggregate_table['min_per_customer'] < 0)\n",
    "].sort_values(by=['CustomerID', 'StockCode', 'InvoiceDate']).loc[:, 'InvoiceNo':'CustomerID'].head(n=8)"
   ]
  },
  {
   "cell_type": "markdown",
   "metadata": {},
   "source": [
    "For ease, order items were filtered down to customers with only 2 row items and at least 1 negative row item. We notice several interesting cases:\n",
    "- It is confirmed that indeed, new items are added in case of a cancellation instead of old rows being updated;\n",
    "- Partial cancellations are possible, since the quantities don't always match up;\n",
    "- Not every cancellation has a matching pair (these could be cancellations of orders placed before 01/12/2010)."
   ]
  },
  {
   "cell_type": "code",
   "execution_count": null,
   "metadata": {},
   "outputs": [],
   "source": [
    "orders_count = pd.DataFrame({'Orders Count': [orders.shape[0] - cancelled_orders.shape[0], cancelled_orders.shape[0]]},\n",
    "                             index=['Processed Orders', 'Cancelled Orders'])\n",
    "\n",
    "total_items_count = sum(df['Quantity'])\n",
    "refunded_items_count = sum(df[df['InvoiceNo'].str.contains('C')]['Quantity']) * -1\n",
    "items_count = pd.DataFrame({'Items Count': [total_items_count - refunded_items_count, refunded_items_count]},\n",
    "                             index=['Sold Items', 'Refunded Items'])\n",
    "\n",
    "fig, axes = plt.subplots(1, 2)\n",
    "axes[0].axis('off')\n",
    "axes[1].axis('off')\n",
    "\n",
    "orders_count.plot(kind='pie', y='Orders Count', autopct='%.2f', ax=axes[0], title='Order Statuses', figsize=(14, 7))\n",
    "items_count.plot(kind='pie', y='Items Count', autopct='%.2f', ax=axes[1], title='Items Purchased', figsize=(14, 7))"
   ]
  },
  {
   "cell_type": "markdown",
   "metadata": {},
   "source": [
    "Almost 15% of all orders are cancellations, but only ~5% of items are cancellend (due to partial cancellations)\n",
    "### 2.5. Geolocation\n",
    "We want to know how orders are distributed through each country"
   ]
  },
  {
   "cell_type": "code",
   "execution_count": null,
   "metadata": {},
   "outputs": [],
   "source": [
    "orders.plot(column='Country', cmap='Blues', figsize=(7,14), scheme='equal_interval', legend=True)"
   ]
  },
  {
   "cell_type": "code",
   "execution_count": null,
   "metadata": {},
   "outputs": [],
   "source": []
  }
 ],
 "metadata": {
  "kernelspec": {
   "display_name": "Python 3",
   "language": "python",
   "name": "python3"
  },
  "language_info": {
   "codemirror_mode": {
    "name": "ipython",
    "version": 3
   },
   "file_extension": ".py",
   "mimetype": "text/x-python",
   "name": "python",
   "nbconvert_exporter": "python",
   "pygments_lexer": "ipython3",
   "version": "3.6.1"
  }
 },
 "nbformat": 4,
 "nbformat_minor": 2
}
